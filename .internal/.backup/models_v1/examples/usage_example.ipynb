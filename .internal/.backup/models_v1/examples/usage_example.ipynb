{
 "cells": [
  {
   "cell_type": "code",
   "id": "cb9d0737-6143-44d0-9f9f-93ffd1b78071",
   "metadata": {},
   "outputs": [],
   "source": "import logging\nfrom typing import Dict, List, Optional, Union, Any\n\n# Configure logging\nlogging.basicConfig(level=logging.INFO)\nlogger = logging.getLogger(__name__)\n\n# Define environment variables if needed\nimport os\nos.environ.get(\"OPENAI_API_KEY\") or print(\"Warning: OPENAI_API_KEY not set\")\nos.environ.get(\"ANTHROPIC_API_KEY\") or print(\"Warning: ANTHROPIC_API_KEY not set\")"
  },
  {
   "cell_type": "markdown",
   "id": "676f996d-fcd6-4eb3-811c-dc155d09d0d9",
   "metadata": {},
   "outputs": [],
   "source": "# Ember Model Registry Examples\n\nThis notebook demonstrates different ways to use models through the Ember model registry.\nIt covers multiple invocation patterns, from high-level API access to lower-level direct\nmodel usage.\n\n## Setup\n\nFirst, we'll set up logging and initialize the model registry."
  },
  {
   "cell_type": "markdown",
   "id": "fc84fb12-a7f9-4bfd-a631-af9e148f9c33",
   "metadata": {},
   "outputs": [],
   "source": "## High-Level API Usage\n\nThe recommended way to use Ember models is through the high-level API,\nwhich provides a clean, consistent interface with namespace access."
  },
  {
   "cell_type": "code",
   "id": "0e525836-43cc-4943-81e4-d55c78d5eb95",
   "metadata": {},
   "outputs": [],
   "source": "# Import the high-level API\nfrom ember.api import models\nfrom ember.api import ModelBuilder, ModelAPI, ModelEnum\n\n# Demonstration of namespace access\ntry:\n    # Using provider namespace\n    response = models.openai.gpt4o(\"What is the capital of France?\")\n    print(f\"Capital of France: {response.data}\\n\")\n    \n    # Using model alias\n    response = models.gpt4(\"Tell me a short joke\")\n    print(f\"Joke: {response.data}\\n\")\nexcept Exception as error:\n    logger.exception(\"Error with namespace access: %s\", error)"
  },
  {
   "cell_type": "markdown",
   "id": "0bcbcd68-a686-41f7-ac9f-87bd05e9406a",
   "metadata": {},
   "outputs": [],
   "source": "## Builder Pattern\n\nFor more control over model parameters, you can use the builder pattern\nto configure the model before invocation."
  },
  {
   "cell_type": "code",
   "id": "f48977cc-2f7f-45af-bb1e-bb4f3345354f",
   "metadata": {},
   "outputs": [],
   "source": "try:\n    # Create a configured model with the builder pattern\n    model = (\n        ModelBuilder()\n        .temperature(0.7)\n        .max_tokens(50)\n        .build(ModelEnum.OPENAI_GPT4O)\n    )\n    \n    # Generate response with the configured model\n    response = model.generate(prompt=\"Explain quantum computing in one sentence\")\n    print(f\"Quantum computing: {response.data}\")\nexcept Exception as error:\n    logger.exception(\"Error with builder pattern: %s\", error)"
  },
  {
   "cell_type": "markdown",
   "id": "48669328-78e6-400d-891f-efd2b4f24ad0",
   "metadata": {},
   "outputs": [],
   "source": "## Type-Safe Enum Access\n\nFor applications that benefit from compile-time checking, you can use\nthe ModelEnum for type-safe model references."
  },
  {
   "cell_type": "code",
   "id": "7045a4bf-14af-4b9a-9023-9a30be4e9f36",
   "metadata": {},
   "outputs": [],
   "source": "try:\n    # Using ModelEnum for type safety\n    model = ModelAPI.from_enum(ModelEnum.ANTHROPIC_CLAUDE_3_5_SONNET)\n    \n    response = model.generate(\n        prompt=\"What's your favorite programming language?\",\n        temperature=0.8\n    )\n    print(f\"Programming language: {response.data}\")\nexcept Exception as error:\n    logger.exception(\"Error with enum access: %s\", error)"
  },
  {
   "cell_type": "markdown",
   "id": "ee7ba81f-3251-4d62-adc8-aaf46567a441",
   "metadata": {},
   "outputs": [],
   "source": "## Direct Registry Access\n\nFor advanced usage, you can access the underlying registry directly."
  },
  {
   "cell_type": "code",
   "id": "1bb4c0a0-4ab8-4a3e-9a61-f211e20f4619",
   "metadata": {},
   "outputs": [],
   "source": "try:\n    # Get the registry\n    registry = models.get_registry()\n    \n    # List available models\n    available_models = registry.list_models()\n    print(f\"Available models: {available_models[:5]}...\")\n    \n    # Get model info for a specific model\n    model_info = registry.get_model_info(\"openai:gpt-4o\")\n    print(f\"Model: openai:gpt-4o\")\n    print(f\"  Name: {model_info.model_name}\")\n    print(f\"  Provider: {model_info.provider.name}\")\n    print(f\"  Input cost: ${model_info.cost.input_cost_per_thousand/1000:.6f} per token\")\n    print(f\"  Output cost: ${model_info.cost.output_cost_per_thousand/1000:.6f} per token\")\nexcept Exception as error:\n    logger.exception(\"Error with registry access: %s\", error)"
  },
  {
   "cell_type": "markdown",
   "id": "a7536726-fdc2-46f3-a925-76df38eb9799",
   "metadata": {},
   "outputs": [],
   "source": "## Usage Tracking\n\nEmber provides built-in usage tracking for models. This is useful for\nmonitoring costs and usage patterns."
  },
  {
   "cell_type": "code",
   "id": "d6259d36-b139-44d2-afe9-a0ab3d76563c",
   "metadata": {},
   "outputs": [],
   "source": "try:\n    # Get the usage service\n    usage_service = models.get_usage_service()\n    \n    # Make a few model calls\n    models.gpt4(\"What's the weather like today?\")\n    models.claude(\"Tell me about machine learning\")\n    \n    # Get usage statistics\n    stats = usage_service.get_usage_stats()\n    print(f\"Total tokens used: {stats.total_tokens}\")\n    print(f\"Total cost: ${stats.total_cost:.4f}\")\n    \n    # Usage by model\n    for model, usage in stats.usage_by_model.items():\n        print(f\"Model {model}: {usage.total_tokens} tokens, ${usage.cost:.4f}\")\nexcept Exception as error:\n    logger.exception(\"Error with usage tracking: %s\", error)"
  },
  {
   "cell_type": "markdown",
   "id": "d0e838c5-7620-45f1-a379-cae390ff09b0",
   "metadata": {},
   "outputs": [],
   "source": "## Lower-Level Initialization\n\nIf you need more control over the initialization process, you can\ninitialize the registry and services manually."
  },
  {
   "cell_type": "code",
   "id": "79e4d5fa-d8d0-4c9e-96b5-15df7ad26030",
   "metadata": {},
   "outputs": [],
   "source": "from ember.core.registry.model.initialization import initialize_registry\nfrom ember.core.registry.model.base.services.model_service import ModelService\nfrom ember.core.registry.model.base.services.usage_service import UsageService\n\ntry:\n    # Initialize registry with custom settings\n    registry = initialize_registry(auto_discover=True)\n    \n    # Create services\n    model_service = ModelService(registry=registry)\n    usage_service = UsageService(registry=registry)\n    \n    # Use the service directly\n    response = model_service.invoke_model(\n        model_id=\"openai:gpt-4o\",\n        prompt=\"Explain the meaning of life\",\n        temperature=0.7,\n        max_tokens=100\n    )\n    print(f\"Meaning of life: {response.data}\")\nexcept Exception as error:\n    logger.exception(\"Error with manual initialization: %s\", error)"
  },
  {
   "cell_type": "markdown",
   "id": "d2c0a0c6-0a2a-4011-878b-0c6de4a8f643",
   "metadata": {},
   "outputs": [],
   "source": "## Manual Model Registration\n\nYou can also register models manually if needed."
  },
  {
   "cell_type": "code",
   "id": "5b73d51b-2f0d-4530-97e6-e0198752d2d7",
   "metadata": {},
   "outputs": [],
   "source": "from ember.core.registry.model.base.schemas.model_info import ModelInfo\nfrom ember.core.registry.model.base.schemas.provider_info import ProviderInfo\nfrom ember.core.registry.model.base.schemas.cost import ModelCost\n\ntry:\n    # Create model info\n    custom_model = ModelInfo(\n        model_id=\"custom:my-model\",\n        model_name=\"My Custom Model\",\n        cost=ModelCost(\n            input_cost_per_thousand=0.001,\n            output_cost_per_thousand=0.002\n        ),\n        provider=ProviderInfo(\n            name=\"CustomProvider\",\n            default_api_key=\"your-api-key\"\n        )\n    )\n    \n    # Register the model\n    registry.register_model(custom_model)\n    print(f\"Registered custom model: {custom_model.model_id}\")\n    \n    # Verify registration\n    assert registry.is_registered(\"custom:my-model\")\n    print(\"Verification successful\")\nexcept Exception as error:\n    logger.exception(\"Error with manual registration: %s\", error)"
  },
  {
   "cell_type": "markdown",
   "id": "780dc412-adf8-422e-bf61-9f1e02299e41",
   "metadata": {},
   "outputs": [],
   "source": "## Conclusion\n\nThis notebook demonstrated various ways to use Ember models, from high-level\nAPI access to lower-level direct usage. The recommended approach for most\nuse cases is the high-level API with namespace access, but you can choose\nthe approach that best fits your needs."
  }
 ],
 "metadata": {
  "kernelspec": {
   "display_name": "Python 3 (ipykernel)",
   "language": "python",
   "name": "python3"
  },
  "language_info": {
   "codemirror_mode": {
    "name": "ipython",
    "version": 3
   },
   "file_extension": ".py",
   "mimetype": "text/x-python",
   "name": "python",
   "nbconvert_exporter": "python",
   "pygments_lexer": "ipython3",
   "version": "3.11.6"
  }
 },
 "nbformat": 4,
 "nbformat_minor": 5
}